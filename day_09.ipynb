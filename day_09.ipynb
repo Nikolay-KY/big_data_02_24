{
 "cells": [
  {
   "cell_type": "markdown",
   "metadata": {},
   "source": [
    "## Анализ тональности обзоров ресторанов"
   ]
  },
  {
   "cell_type": "markdown",
   "metadata": {},
   "source": [
    "### Подключение библиотек"
   ]
  },
  {
   "cell_type": "code",
   "execution_count": 1,
   "metadata": {},
   "outputs": [],
   "source": [
    "import pandas as pd\n",
    "import numpy as np\n",
    "from sklearn.preprocessing import MinMaxScaler"
   ]
  },
  {
   "cell_type": "markdown",
   "metadata": {},
   "source": [
    "### Загрузка и просмотр данных"
   ]
  },
  {
   "cell_type": "code",
   "execution_count": 4,
   "metadata": {},
   "outputs": [
    {
     "name": "stdout",
     "output_type": "stream",
     "text": [
      "(10000, 8)\n",
      "         Restaurant              Reviewer  \\\n",
      "0   Beyond Flavours     Rusha Chakraborty   \n",
      "1   Beyond Flavours  Anusha Tirumalaneedi   \n",
      "2   Beyond Flavours       Ashok Shekhawat   \n",
      "3   Beyond Flavours        Swapnil Sarkar   \n",
      "4   Beyond Flavours                Dileep   \n",
      "5   Beyond Flavours         Nagabhavani K   \n",
      "6   Beyond Flavours       Jamuna Bhuwalka   \n",
      "7   Beyond Flavours             Sandhya S   \n",
      "8   Beyond Flavours          Akash Thorat   \n",
      "9   Beyond Flavours        Smarak Patnaik   \n",
      "10  Beyond Flavours      Saubhagya Bhuyan   \n",
      "11  Beyond Flavours            Srivaths07   \n",
      "12  Beyond Flavours           Kunj Mishra   \n",
      "13  Beyond Flavours     Pradeep Vetapalem   \n",
      "14  Beyond Flavours         Kankaria.ritu   \n",
      "15  Beyond Flavours          Abhay Sharma   \n",
      "16  Beyond Flavours       Shubham Jaiswal   \n",
      "17  Beyond Flavours     Srijani Mukherjee   \n",
      "18  Beyond Flavours           Hari Jangam   \n",
      "19  Beyond Flavours           Suneet Soni   \n",
      "\n",
      "                                               Review Rating  \\\n",
      "0   The ambience was good, food was quite good . h...      5   \n",
      "1   Ambience is too good for a pleasant evening. S...      5   \n",
      "2   A must try.. great food great ambience. Thnx f...      5   \n",
      "3   Soumen das and Arun was a great guy. Only beca...      5   \n",
      "4   Food is good.we ordered Kodi drumsticks and ba...      5   \n",
      "5   Ambiance is good, service is good, food is aPr...      5   \n",
      "6   Its a very nice place, ambience is different, ...      5   \n",
      "7   Well after reading so many reviews finally vis...      4   \n",
      "8   Excellent food , specially if you like spicy f...      5   \n",
      "9   Came for the birthday treat of a close friend....      5   \n",
      "10  The service was great and the food was awesome...      5   \n",
      "11  Very good ambience, amazing food ,good service...      5   \n",
      "12  Food was very good. Soup was as expected. In s...      5   \n",
      "13  Food is too good. Telangana kodiak fry is must...      5   \n",
      "14  We ordered corn cheese balls, manchow soup and...      1   \n",
      "15  Food and ambience is fantastic.. Waiter Manav ...      5   \n",
      "16  Came here for lunch and the food was good and ...      4   \n",
      "17  The best thing about this place is the food. M...      5   \n",
      "18  Polite and friendly staff. Nice ambience and g...      5   \n",
      "19  Food is really good. We had vegetarian items i...      5   \n",
      "\n",
      "                     Metadata             Time  Pictures    7514  \n",
      "0      1 Review , 2 Followers  5/25/2019 15:54         0  2447.0  \n",
      "1     3 Reviews , 2 Followers  5/25/2019 14:20         0     NaN  \n",
      "2     2 Reviews , 3 Followers  5/24/2019 22:54         0     NaN  \n",
      "3       1 Review , 1 Follower  5/24/2019 22:11         0     NaN  \n",
      "4     3 Reviews , 2 Followers  5/24/2019 21:37         0     NaN  \n",
      "5                    1 Review  5/24/2019 15:22         0     NaN  \n",
      "6                    1 Review   5/24/2019 1:02         0     NaN  \n",
      "7                    1 Review  5/23/2019 15:01         0     NaN  \n",
      "8       1 Review , 1 Follower  5/22/2019 23:12         0     NaN  \n",
      "9       1 Review , 1 Follower  5/22/2019 22:37         0     NaN  \n",
      "10      1 Review , 1 Follower  5/22/2019 22:22         0     NaN  \n",
      "11     3 Reviews , 1 Follower  5/22/2019 21:43         0     NaN  \n",
      "12      1 Review , 1 Follower  5/22/2019 21:29         0     NaN  \n",
      "13   2 Reviews , 25 Followers  5/22/2019 21:21         0     NaN  \n",
      "14                   1 Review  5/22/2019 21:19         0     NaN  \n",
      "15    4 Reviews , 7 Followers  5/22/2019 20:38         0     NaN  \n",
      "16  30 Reviews , 34 Followers  5/22/2019 19:54         8     NaN  \n",
      "17  6 Reviews , 267 Followers  5/22/2019 19:47         1     NaN  \n",
      "18      1 Review , 1 Follower  5/22/2019 15:13         0     NaN  \n",
      "19    1 Review , 33 Followers  5/21/2019 22:08         0     NaN  \n"
     ]
    }
   ],
   "source": [
    "df = pd.read_csv(\"Restaurant reviews.csv\")\n",
    "print(df.shape)\n",
    "print(df.head(20))"
   ]
  },
  {
   "cell_type": "markdown",
   "metadata": {},
   "source": [
    "### Очистка данных"
   ]
  },
  {
   "cell_type": "code",
   "execution_count": 5,
   "metadata": {},
   "outputs": [],
   "source": [
    "df = df.drop([\"Restaurant\", \"Reviewer\", \"Metadata\", \"Pictures\", \"7514\"], axis=1)"
   ]
  },
  {
   "cell_type": "code",
   "execution_count": 6,
   "metadata": {},
   "outputs": [
    {
     "data": {
      "text/html": [
       "<div>\n",
       "<style scoped>\n",
       "    .dataframe tbody tr th:only-of-type {\n",
       "        vertical-align: middle;\n",
       "    }\n",
       "\n",
       "    .dataframe tbody tr th {\n",
       "        vertical-align: top;\n",
       "    }\n",
       "\n",
       "    .dataframe thead th {\n",
       "        text-align: right;\n",
       "    }\n",
       "</style>\n",
       "<table border=\"1\" class=\"dataframe\">\n",
       "  <thead>\n",
       "    <tr style=\"text-align: right;\">\n",
       "      <th></th>\n",
       "      <th>Review</th>\n",
       "      <th>Rating</th>\n",
       "      <th>Time</th>\n",
       "    </tr>\n",
       "  </thead>\n",
       "  <tbody>\n",
       "    <tr>\n",
       "      <th>0</th>\n",
       "      <td>The ambience was good, food was quite good . h...</td>\n",
       "      <td>5</td>\n",
       "      <td>5/25/2019 15:54</td>\n",
       "    </tr>\n",
       "    <tr>\n",
       "      <th>1</th>\n",
       "      <td>Ambience is too good for a pleasant evening. S...</td>\n",
       "      <td>5</td>\n",
       "      <td>5/25/2019 14:20</td>\n",
       "    </tr>\n",
       "    <tr>\n",
       "      <th>2</th>\n",
       "      <td>A must try.. great food great ambience. Thnx f...</td>\n",
       "      <td>5</td>\n",
       "      <td>5/24/2019 22:54</td>\n",
       "    </tr>\n",
       "    <tr>\n",
       "      <th>3</th>\n",
       "      <td>Soumen das and Arun was a great guy. Only beca...</td>\n",
       "      <td>5</td>\n",
       "      <td>5/24/2019 22:11</td>\n",
       "    </tr>\n",
       "    <tr>\n",
       "      <th>4</th>\n",
       "      <td>Food is good.we ordered Kodi drumsticks and ba...</td>\n",
       "      <td>5</td>\n",
       "      <td>5/24/2019 21:37</td>\n",
       "    </tr>\n",
       "  </tbody>\n",
       "</table>\n",
       "</div>"
      ],
      "text/plain": [
       "                                              Review Rating             Time\n",
       "0  The ambience was good, food was quite good . h...      5  5/25/2019 15:54\n",
       "1  Ambience is too good for a pleasant evening. S...      5  5/25/2019 14:20\n",
       "2  A must try.. great food great ambience. Thnx f...      5  5/24/2019 22:54\n",
       "3  Soumen das and Arun was a great guy. Only beca...      5  5/24/2019 22:11\n",
       "4  Food is good.we ordered Kodi drumsticks and ba...      5  5/24/2019 21:37"
      ]
     },
     "execution_count": 6,
     "metadata": {},
     "output_type": "execute_result"
    }
   ],
   "source": [
    "df.head()"
   ]
  },
  {
   "cell_type": "markdown",
   "metadata": {},
   "source": [
    "### Преобразование времени"
   ]
  },
  {
   "cell_type": "code",
   "execution_count": 7,
   "metadata": {},
   "outputs": [
    {
     "data": {
      "text/html": [
       "<div>\n",
       "<style scoped>\n",
       "    .dataframe tbody tr th:only-of-type {\n",
       "        vertical-align: middle;\n",
       "    }\n",
       "\n",
       "    .dataframe tbody tr th {\n",
       "        vertical-align: top;\n",
       "    }\n",
       "\n",
       "    .dataframe thead th {\n",
       "        text-align: right;\n",
       "    }\n",
       "</style>\n",
       "<table border=\"1\" class=\"dataframe\">\n",
       "  <thead>\n",
       "    <tr style=\"text-align: right;\">\n",
       "      <th></th>\n",
       "      <th>Review</th>\n",
       "      <th>Rating</th>\n",
       "      <th>Time</th>\n",
       "    </tr>\n",
       "  </thead>\n",
       "  <tbody>\n",
       "    <tr>\n",
       "      <th>0</th>\n",
       "      <td>The ambience was good, food was quite good . h...</td>\n",
       "      <td>5</td>\n",
       "      <td>2019</td>\n",
       "    </tr>\n",
       "    <tr>\n",
       "      <th>1</th>\n",
       "      <td>Ambience is too good for a pleasant evening. S...</td>\n",
       "      <td>5</td>\n",
       "      <td>2019</td>\n",
       "    </tr>\n",
       "    <tr>\n",
       "      <th>2</th>\n",
       "      <td>A must try.. great food great ambience. Thnx f...</td>\n",
       "      <td>5</td>\n",
       "      <td>2019</td>\n",
       "    </tr>\n",
       "    <tr>\n",
       "      <th>3</th>\n",
       "      <td>Soumen das and Arun was a great guy. Only beca...</td>\n",
       "      <td>5</td>\n",
       "      <td>2019</td>\n",
       "    </tr>\n",
       "    <tr>\n",
       "      <th>4</th>\n",
       "      <td>Food is good.we ordered Kodi drumsticks and ba...</td>\n",
       "      <td>5</td>\n",
       "      <td>2019</td>\n",
       "    </tr>\n",
       "  </tbody>\n",
       "</table>\n",
       "</div>"
      ],
      "text/plain": [
       "                                              Review Rating  Time\n",
       "0  The ambience was good, food was quite good . h...      5  2019\n",
       "1  Ambience is too good for a pleasant evening. S...      5  2019\n",
       "2  A must try.. great food great ambience. Thnx f...      5  2019\n",
       "3  Soumen das and Arun was a great guy. Only beca...      5  2019\n",
       "4  Food is good.we ordered Kodi drumsticks and ba...      5  2019"
      ]
     },
     "execution_count": 7,
     "metadata": {},
     "output_type": "execute_result"
    }
   ],
   "source": [
    "df[\"Time\"] = list(map(lambda data: str(data).split()[0], df[\"Time\"]))\n",
    "df[\"Time\"] = list(map(lambda data: str(data).split(\"/\")[-1], df[\"Time\"]))\n",
    "df.head()"
   ]
  }
 ],
 "metadata": {
  "kernelspec": {
   "display_name": "base",
   "language": "python",
   "name": "python3"
  },
  "language_info": {
   "codemirror_mode": {
    "name": "ipython",
    "version": 3
   },
   "file_extension": ".py",
   "mimetype": "text/x-python",
   "name": "python",
   "nbconvert_exporter": "python",
   "pygments_lexer": "ipython3",
   "version": "3.11.5"
  }
 },
 "nbformat": 4,
 "nbformat_minor": 2
}
