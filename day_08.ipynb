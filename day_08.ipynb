{
 "cells": [
  {
   "cell_type": "code",
   "execution_count": 10,
   "metadata": {},
   "outputs": [
    {
     "name": "stdout",
     "output_type": "stream",
     "text": [
      "True\n",
      "False\n",
      "False\n",
      "False\n",
      "True\n"
     ]
    }
   ],
   "source": [
    "import re \n",
    "\n",
    "def validate_email(email):\n",
    "    pattern = r'[A-Za-z0-9._%+-]+@[A-Za-z0-9.-]+\\.[A-Z|a-z]'\n",
    "\n",
    "    if re.match(pattern, email):\n",
    "        return True\n",
    "\n",
    "    else:\n",
    "        return False\n",
    "\n",
    "email1 = \"artem@golubnichij.ru\"\n",
    "email2 = \"artem__golubnichij.ru\"\n",
    "email3 = \"!rtem@golubnichij.ru\"\n",
    "email4 = \"art em@golubnichij.ru\"\n",
    "email5 = \"art234234em@golubnichij.ru\"\n",
    "\n",
    "\n",
    "print(validate_email(email1))\n",
    "print(validate_email(email2))\n",
    "print(validate_email(email3))\n",
    "print(validate_email(email4))\n",
    "print(validate_email(email5))\n"
   ]
  }
 ],
 "metadata": {
  "kernelspec": {
   "display_name": "base",
   "language": "python",
   "name": "python3"
  },
  "language_info": {
   "codemirror_mode": {
    "name": "ipython",
    "version": 3
   },
   "file_extension": ".py",
   "mimetype": "text/x-python",
   "name": "python",
   "nbconvert_exporter": "python",
   "pygments_lexer": "ipython3",
   "version": "3.11.5"
  }
 },
 "nbformat": 4,
 "nbformat_minor": 2
}
