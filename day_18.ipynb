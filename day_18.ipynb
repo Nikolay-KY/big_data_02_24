{
 "cells": [
  {
   "cell_type": "markdown",
   "metadata": {},
   "source": [
    "### Подключение PySpark, загрузка библиотек и настройка изображений"
   ]
  },
  {
   "cell_type": "code",
   "execution_count": 1,
   "metadata": {},
   "outputs": [],
   "source": [
    "import numpy as np\n",
    "import pandas as pd\n",
    "\n",
    "import seaborn as sns\n",
    "import matplotlib.pyplot as plt\n",
    "\n",
    "from pyspark.sql import SparkSession\n",
    "from pyspark.sql.functions import col, mean, countDistinct, count, size, when\n",
    "from pyspark.sql.functions import regexp_extract, split\n",
    "\n",
    "sns.set_style(\"darkgrid\")\n",
    "\n",
    "params = {\"legend.fontsize\" : \"medium\", \"figure.figsize\" : (10, 8), \"figure.dpi\" : 100, \"axes.labelsize\" : \"medium\", \"axes.titlesize\" : \"medium\", \"xtick.labelsize\": \"medium\", \"ytick.labelsize\" : \"medium\"}\n",
    "plt.rcParams.update(params)"
   ]
  },
  {
   "cell_type": "markdown",
   "metadata": {},
   "source": [
    "### Запуск сессии PySpark"
   ]
  },
  {
   "cell_type": "code",
   "execution_count": 2,
   "metadata": {},
   "outputs": [
    {
     "name": "stderr",
     "output_type": "stream",
     "text": [
      "Setting default log level to \"WARN\".\n",
      "To adjust logging level use sc.setLogLevel(newLevel). For SparkR, use setLogLevel(newLevel).\n",
      "24/03/19 20:23:53 WARN NativeCodeLoader: Unable to load native-hadoop library for your platform... using builtin-java classes where applicable\n"
     ]
    }
   ],
   "source": [
    "spark = SparkSession.builder.appName(\"EDA Films\").getOrCreate()"
   ]
  },
  {
   "cell_type": "markdown",
   "metadata": {},
   "source": [
    "### Загрузка и обзор датасетов"
   ]
  },
  {
   "cell_type": "code",
   "execution_count": 3,
   "metadata": {},
   "outputs": [],
   "source": [
    "df_movies = spark.read.csv(\"sp_movies.csv\", header=True, inferSchema=True)\n",
    "df_ratings = spark.read.csv(\"sp_ratings.csv\", header=True, inferSchema=True)\n",
    "df_tags = spark.read.csv(\"sp_tags.csv\", header=True, inferSchema=True)"
   ]
  },
  {
   "cell_type": "code",
   "execution_count": 4,
   "metadata": {},
   "outputs": [
    {
     "name": "stdout",
     "output_type": "stream",
     "text": [
      "+-------+--------------------+--------------------+\n",
      "|movieId|               title|              genres|\n",
      "+-------+--------------------+--------------------+\n",
      "|      1|    Toy Story (1995)|Adventure|Animati...|\n",
      "|      2|      Jumanji (1995)|Adventure|Childre...|\n",
      "|      3|Grumpier Old Men ...|      Comedy|Romance|\n",
      "+-------+--------------------+--------------------+\n",
      "only showing top 3 rows\n",
      "\n"
     ]
    }
   ],
   "source": [
    "df_movies.show(3)"
   ]
  },
  {
   "cell_type": "code",
   "execution_count": 5,
   "metadata": {},
   "outputs": [
    {
     "name": "stdout",
     "output_type": "stream",
     "text": [
      "+------+-------+------+---------+\n",
      "|userId|movieId|rating|timestamp|\n",
      "+------+-------+------+---------+\n",
      "|     1|      1|   4.0|964982703|\n",
      "|     1|      3|   4.0|964981247|\n",
      "|     1|      6|   4.0|964982224|\n",
      "+------+-------+------+---------+\n",
      "only showing top 3 rows\n",
      "\n"
     ]
    }
   ],
   "source": [
    "df_ratings.show(3)"
   ]
  },
  {
   "cell_type": "code",
   "execution_count": 7,
   "metadata": {},
   "outputs": [
    {
     "name": "stdout",
     "output_type": "stream",
     "text": [
      "+------+-------+---------------+----------+\n",
      "|userId|movieId|            tag| timestamp|\n",
      "+------+-------+---------------+----------+\n",
      "|     2|  60756|          funny|1445714994|\n",
      "|     2|  60756|Highly quotable|1445714996|\n",
      "|     2|  60756|   will ferrell|1445714992|\n",
      "|     2|  89774|   Boxing story|1445715207|\n",
      "|     2|  89774|            MMA|1445715200|\n",
      "+------+-------+---------------+----------+\n",
      "only showing top 5 rows\n",
      "\n"
     ]
    }
   ],
   "source": [
    "df_tags.show(5)"
   ]
  },
  {
   "cell_type": "markdown",
   "metadata": {},
   "source": [
    "### Статистика данных"
   ]
  },
  {
   "cell_type": "code",
   "execution_count": 8,
   "metadata": {},
   "outputs": [
    {
     "name": "stdout",
     "output_type": "stream",
     "text": [
      "Количество пользователей поставивших оценку:\n",
      "+----------------------+\n",
      "|count(DISTINCT userId)|\n",
      "+----------------------+\n",
      "|                   610|\n",
      "+----------------------+\n",
      "\n"
     ]
    }
   ],
   "source": [
    "print(\"Количество пользователей поставивших оценку:\")\n",
    "df_ratings.select(countDistinct(\"userId\")).show()"
   ]
  },
  {
   "cell_type": "code",
   "execution_count": 9,
   "metadata": {},
   "outputs": [
    {
     "name": "stdout",
     "output_type": "stream",
     "text": [
      "Количество оцененных фильмов:\n",
      "+-----------------------+\n",
      "|count(DISTINCT movieId)|\n",
      "+-----------------------+\n",
      "|                   9724|\n",
      "+-----------------------+\n",
      "\n"
     ]
    }
   ],
   "source": [
    "print(\"Количество оцененных фильмов:\")\n",
    "df_ratings.select(countDistinct(\"movieId\")).show()"
   ]
  },
  {
   "cell_type": "code",
   "execution_count": 10,
   "metadata": {},
   "outputs": [
    {
     "name": "stdout",
     "output_type": "stream",
     "text": [
      "Количество комментариев фильмов:\n",
      "+-----------------------+\n",
      "|count(DISTINCT movieId)|\n",
      "+-----------------------+\n",
      "|                   1572|\n",
      "+-----------------------+\n",
      "\n"
     ]
    }
   ],
   "source": [
    "print(\"Количество комментариев фильмов:\")\n",
    "df_tags.select(countDistinct(\"movieId\")).show()"
   ]
  },
  {
   "cell_type": "code",
   "execution_count": 11,
   "metadata": {},
   "outputs": [
    {
     "name": "stdout",
     "output_type": "stream",
     "text": [
      "Количество комментариев фильмов:\n",
      "+-------------------+\n",
      "|count(DISTINCT tag)|\n",
      "+-------------------+\n",
      "|               1589|\n",
      "+-------------------+\n",
      "\n"
     ]
    }
   ],
   "source": [
    "print(\"Количество комментариев фильмов:\")\n",
    "df_tags.select(countDistinct(\"tag\")).show()"
   ]
  },
  {
   "cell_type": "markdown",
   "metadata": {},
   "source": [
    "### Предобработка и настройка данных"
   ]
  },
  {
   "cell_type": "code",
   "execution_count": 13,
   "metadata": {},
   "outputs": [],
   "source": [
    "df1 = df_ratings.alias(\"df1\")\n",
    "df2 = df_tags.alias(\"df2\")\n",
    "df3 = df_movies.alias(\"df3\")"
   ]
  },
  {
   "cell_type": "code",
   "execution_count": 16,
   "metadata": {},
   "outputs": [
    {
     "name": "stdout",
     "output_type": "stream",
     "text": [
      "+-------+--------------------+--------------------+\n",
      "|movieId|               title|              genres|\n",
      "+-------+--------------------+--------------------+\n",
      "|      1|    Toy Story (1995)|Adventure|Animati...|\n",
      "|      2|      Jumanji (1995)|Adventure|Childre...|\n",
      "|      3|Grumpier Old Men ...|      Comedy|Romance|\n",
      "|      4|Waiting to Exhale...|Comedy|Drama|Romance|\n",
      "|      5|Father of the Bri...|              Comedy|\n",
      "|      6|         Heat (1995)|Action|Crime|Thri...|\n",
      "|      7|      Sabrina (1995)|      Comedy|Romance|\n",
      "|      8| Tom and Huck (1995)|  Adventure|Children|\n",
      "|      9| Sudden Death (1995)|              Action|\n",
      "|     10|    GoldenEye (1995)|Action|Adventure|...|\n",
      "|     11|American Presiden...|Comedy|Drama|Romance|\n",
      "|     12|Dracula: Dead and...|       Comedy|Horror|\n",
      "|     13|        Balto (1995)|Adventure|Animati...|\n",
      "|     14|        Nixon (1995)|               Drama|\n",
      "|     15|Cutthroat Island ...|Action|Adventure|...|\n",
      "|     16|       Casino (1995)|         Crime|Drama|\n",
      "|     17|Sense and Sensibi...|       Drama|Romance|\n",
      "|     18|   Four Rooms (1995)|              Comedy|\n",
      "|     19|Ace Ventura: When...|              Comedy|\n",
      "|     20|  Money Train (1995)|Action|Comedy|Cri...|\n",
      "+-------+--------------------+--------------------+\n",
      "only showing top 20 rows\n",
      "\n"
     ]
    }
   ],
   "source": [
    "df3.show()"
   ]
  },
  {
   "cell_type": "markdown",
   "metadata": {},
   "source": [
    "### Извлечение года из названия"
   ]
  },
  {
   "cell_type": "code",
   "execution_count": 17,
   "metadata": {},
   "outputs": [],
   "source": [
    "df3 = df3.withColumn(\"year\", regexp_extract(df3[\"title\"], r\"\\((\\d{4})\\)\", 1))"
   ]
  },
  {
   "cell_type": "code",
   "execution_count": 18,
   "metadata": {},
   "outputs": [
    {
     "name": "stdout",
     "output_type": "stream",
     "text": [
      "+-------+--------------------+--------------------+----+\n",
      "|movieId|               title|              genres|year|\n",
      "+-------+--------------------+--------------------+----+\n",
      "|      1|    Toy Story (1995)|Adventure|Animati...|1995|\n",
      "|      2|      Jumanji (1995)|Adventure|Childre...|1995|\n",
      "|      3|Grumpier Old Men ...|      Comedy|Romance|1995|\n",
      "+-------+--------------------+--------------------+----+\n",
      "only showing top 3 rows\n",
      "\n"
     ]
    }
   ],
   "source": [
    "df3.show(3)"
   ]
  },
  {
   "cell_type": "markdown",
   "metadata": {},
   "source": [
    "### Извлечение данных о жанрах"
   ]
  },
  {
   "cell_type": "code",
   "execution_count": 21,
   "metadata": {},
   "outputs": [],
   "source": [
    "split_expr = split(df3[\"genres\"], \"\\\\|\")\n",
    "for i in range(1,11):\n",
    "    df3 = df3.withColumn(\"genre{}\".format(i), split_expr.getItem(i-1))\n",
    "\n",
    "genre_columns = [\"genre{}\".format(i) for i in range(1, 11)]\n",
    "for col_name in genre_columns:\n",
    "    df3 = df3.withColumn(col_name, col(col_name).cast(\"string\").alias(col_name))\n",
    "\n",
    "genre_count_expr = sum(when(col(col_name) != \"0\", 1).otherwise(0) for col_name in genre_columns)\n",
    "df3 = df3.withColumn(\"genre_count\", genre_count_expr)"
   ]
  },
  {
   "cell_type": "code",
   "execution_count": 23,
   "metadata": {},
   "outputs": [],
   "source": [
    "df3 = df3.drop(\"genres\")"
   ]
  },
  {
   "cell_type": "code",
   "execution_count": 24,
   "metadata": {},
   "outputs": [
    {
     "name": "stdout",
     "output_type": "stream",
     "text": [
      "+-------+--------------------+----+---------+---------+--------+------+--------+------+------+------+------+-------+-----------+\n",
      "|movieId|               title|year|   genre1|   genre2|  genre3|genre4|  genre5|genre6|genre7|genre8|genre9|genre10|genre_count|\n",
      "+-------+--------------------+----+---------+---------+--------+------+--------+------+------+------+------+-------+-----------+\n",
      "|      1|    Toy Story (1995)|1995|Adventure|Animation|Children|Comedy| Fantasy|  NULL|  NULL|  NULL|  NULL|   NULL|          5|\n",
      "|      2|      Jumanji (1995)|1995|Adventure| Children| Fantasy|  NULL|    NULL|  NULL|  NULL|  NULL|  NULL|   NULL|          3|\n",
      "|      3|Grumpier Old Men ...|1995|   Comedy|  Romance|    NULL|  NULL|    NULL|  NULL|  NULL|  NULL|  NULL|   NULL|          2|\n",
      "|      4|Waiting to Exhale...|1995|   Comedy|    Drama| Romance|  NULL|    NULL|  NULL|  NULL|  NULL|  NULL|   NULL|          3|\n",
      "|      5|Father of the Bri...|1995|   Comedy|     NULL|    NULL|  NULL|    NULL|  NULL|  NULL|  NULL|  NULL|   NULL|          1|\n",
      "|      6|         Heat (1995)|1995|   Action|    Crime|Thriller|  NULL|    NULL|  NULL|  NULL|  NULL|  NULL|   NULL|          3|\n",
      "|      7|      Sabrina (1995)|1995|   Comedy|  Romance|    NULL|  NULL|    NULL|  NULL|  NULL|  NULL|  NULL|   NULL|          2|\n",
      "|      8| Tom and Huck (1995)|1995|Adventure| Children|    NULL|  NULL|    NULL|  NULL|  NULL|  NULL|  NULL|   NULL|          2|\n",
      "|      9| Sudden Death (1995)|1995|   Action|     NULL|    NULL|  NULL|    NULL|  NULL|  NULL|  NULL|  NULL|   NULL|          1|\n",
      "|     10|    GoldenEye (1995)|1995|   Action|Adventure|Thriller|  NULL|    NULL|  NULL|  NULL|  NULL|  NULL|   NULL|          3|\n",
      "|     11|American Presiden...|1995|   Comedy|    Drama| Romance|  NULL|    NULL|  NULL|  NULL|  NULL|  NULL|   NULL|          3|\n",
      "|     12|Dracula: Dead and...|1995|   Comedy|   Horror|    NULL|  NULL|    NULL|  NULL|  NULL|  NULL|  NULL|   NULL|          2|\n",
      "|     13|        Balto (1995)|1995|Adventure|Animation|Children|  NULL|    NULL|  NULL|  NULL|  NULL|  NULL|   NULL|          3|\n",
      "|     14|        Nixon (1995)|1995|    Drama|     NULL|    NULL|  NULL|    NULL|  NULL|  NULL|  NULL|  NULL|   NULL|          1|\n",
      "|     15|Cutthroat Island ...|1995|   Action|Adventure| Romance|  NULL|    NULL|  NULL|  NULL|  NULL|  NULL|   NULL|          3|\n",
      "|     16|       Casino (1995)|1995|    Crime|    Drama|    NULL|  NULL|    NULL|  NULL|  NULL|  NULL|  NULL|   NULL|          2|\n",
      "|     17|Sense and Sensibi...|1995|    Drama|  Romance|    NULL|  NULL|    NULL|  NULL|  NULL|  NULL|  NULL|   NULL|          2|\n",
      "|     18|   Four Rooms (1995)|1995|   Comedy|     NULL|    NULL|  NULL|    NULL|  NULL|  NULL|  NULL|  NULL|   NULL|          1|\n",
      "|     19|Ace Ventura: When...|1995|   Comedy|     NULL|    NULL|  NULL|    NULL|  NULL|  NULL|  NULL|  NULL|   NULL|          1|\n",
      "|     20|  Money Train (1995)|1995|   Action|   Comedy|   Crime| Drama|Thriller|  NULL|  NULL|  NULL|  NULL|   NULL|          5|\n",
      "+-------+--------------------+----+---------+---------+--------+------+--------+------+------+------+------+-------+-----------+\n",
      "only showing top 20 rows\n",
      "\n"
     ]
    }
   ],
   "source": [
    "df3.show()"
   ]
  },
  {
   "cell_type": "code",
   "execution_count": null,
   "metadata": {},
   "outputs": [],
   "source": [
    "spark.stop()"
   ]
  }
 ],
 "metadata": {
  "kernelspec": {
   "display_name": "base",
   "language": "python",
   "name": "python3"
  },
  "language_info": {
   "codemirror_mode": {
    "name": "ipython",
    "version": 3
   },
   "file_extension": ".py",
   "mimetype": "text/x-python",
   "name": "python",
   "nbconvert_exporter": "python",
   "pygments_lexer": "ipython3",
   "version": "3.11.5"
  }
 },
 "nbformat": 4,
 "nbformat_minor": 2
}
